{
 "cells": [
  {
   "cell_type": "markdown",
   "id": "7dcb7f58",
   "metadata": {},
   "source": [
    "# *A Brief Introduction*\n",
    "\n",
    "The Turing Machine was invented by Alan Turing in 1936 -- It was a machine that reads in tapes with instructions encoded as punch-holes. Over the years, computers have built on that simple foundation; physical instructions stored on tape were replaced with electronic instructions stored on disks. While the modern computer is able to process instructions millions of times faster than the original Turing Machine, allowing it to run seemingly complex programs, modern computers are inherently dumb -- Most programs written for computers are heuristically-defined and are unable to make intelligent decisions. \n",
    "\n",
    "Say you want to write a program to classify an image as `flower` or `not flower`. What if we write a naive algorithm that tries to match a new picture of a flower to ones already existing in our dataset?\n",
    "\n",
    "```python\n",
    "...\n",
    "# Storing images into the dataset for reference\n",
    "dataset.add(Image.load(\"flower.png\"))\n",
    "\n",
    "...\n",
    "img = Image.load(\"new_flower.png\")\n",
    "\n",
    "# Matching to see if this new image is in the dataset\n",
    "if img in dataset:\n",
    "    return True\n",
    "else:\n",
    "    return False\n",
    "\n",
    "```\n",
    "\n",
    "Obviously this doesn't work. We could write a more sophisticated algorithm, for instance, we can count the number of pink pixels in each area and assign a likelihood that area contains a flower, but heuristically defining a classification function is difficult, and for more complex real-life relations, borderline impossible. We need a better way to build intelligent systems."
   ]
  },
  {
   "cell_type": "markdown",
   "id": "e27ba108",
   "metadata": {},
   "source": [
    "## Table of Contents\n",
    "\n",
    "1. [What is Machine Learning?](#ml)\n",
    "\n",
    "    1.1 [What is a Machine?](#machine)\n",
    "    \n",
    "    1.2 [What is Learning](#learning)\n",
    "    \n",
    "    1.3 [Classes of Machine Learning](#classes)\n",
    "    \n",
    "2. [Supervised Learning](#sl)\n",
    "    \n",
    "    2.1 [Regression](#reg)\n",
    "    \n",
    "    2.2 [Classification](#cla)\n",
    "    \n",
    "3. [Coding Workshop!](#work)\n",
    "\n"
   ]
  },
  {
   "cell_type": "markdown",
   "id": "deaf5945",
   "metadata": {
    "tags": []
   },
   "source": [
    "## 1. What is Machine Learning? <a id=\"ml\"></a>"
   ]
  },
  {
   "cell_type": "markdown",
   "id": "1551f40f",
   "metadata": {
    "jp-MarkdownHeadingCollapsed": true,
    "tags": [
     "hide_cell"
    ]
   },
   "source": [
    "### 1.1 What is a Machine? <a id=\"machine\"></a>\n",
    "\n"
   ]
  },
  {
   "cell_type": "markdown",
   "id": "c3090e76-29ed-4f86-85d2-78f042519a08",
   "metadata": {},
   "source": [
    "In the context of Machine Learning, **a machine is a function**. More specifically, it is a mapping from the input domain to the output domain:\n",
    "\n",
    "$$\n",
    "f: \\mathbb{R}^n \\to \\mathbb{R}^m\n",
    "$$"
   ]
  },
  {
   "cell_type": "markdown",
   "id": "c153c1e8-7688-4ffb-a432-8a86d7b54127",
   "metadata": {
    "jp-MarkdownHeadingCollapsed": true,
    "tags": []
   },
   "source": [
    "### 1.2 What is Learning? <a id=\"learning\"></a>"
   ]
  },
  {
   "cell_type": "markdown",
   "id": "f866135d-2ee1-4971-b3c9-e106f88370d7",
   "metadata": {
    "jp-MarkdownHeadingCollapsed": true,
    "tags": []
   },
   "source": [
    "There are **two** main types of learning: **Declarative** and **Procedural**. These learning schemas pertain to how humans learn. We will soon see how this applies to machine learning.\n",
    "\n",
    "#### Procedural Learning\n",
    "\n",
    "Procedural Learning involves learning the steps to perform or replicate a task. For example, solving this integral involves learning multiple steps:\n",
    "\n",
    "$$\\int_{2}^3 x^2 dx$$\n",
    "\n",
    "$$ = {x^{2 + 1}\\over{2 + 1}}\\Bigg|^3_2$$\n",
    "\n",
    "$$ = {x^{3}\\over{3}}\\Bigg|^3_2$$\n",
    "\n",
    "$$ = {3^{3}\\over{3}} - {2^3 \\over 3}$$\n",
    "\n",
    "$$ = 9 - {8\\over 3}$$\n",
    "\n",
    "$$ = {19\\over 3}$$\n",
    "\n",
    "\n",
    "#### Declarative Learning\n",
    "\n",
    "Declarative learning is when you learn through experience. For example, through experience you can recognize every letter in this image -- you weren't taught a set of procedural rules to recognize handwritten letters.\n",
    "\n",
    "<img src=\"data:image/jpeg;base64,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\"></img>\n",
    "\n"
   ]
  },
  {
   "cell_type": "markdown",
   "id": "fd601f49-60e3-4764-b069-459ed496eb01",
   "metadata": {
    "tags": []
   },
   "source": [
    "### 1.3 Classes of Machine Learning <a id=\"classes\"></a>"
   ]
  },
  {
   "cell_type": "markdown",
   "id": "7076c46d-99f4-42ef-9d80-a36f51a29aa8",
   "metadata": {
    "tags": []
   },
   "source": [
    "There are many classes of Machine Learning, however we will discuss two classes, and implement one of them.\n",
    "\n",
    "#### Supervised Learning\n",
    "\n",
    "Supervised Learning involves presenting a model with **input data**, as well as the expected **output target labels**. We want the model to learn the relationship between input and output. "
   ]
  },
  {
   "cell_type": "markdown",
   "id": "7293acf7-4951-4cfd-a5a0-f7cc563812d0",
   "metadata": {
    "jp-MarkdownHeadingCollapsed": true,
    "tags": []
   },
   "source": [
    "##### **Question**: What type of learning scheme is Supervised Learning? Procedural or Declarative?"
   ]
  },
  {
   "cell_type": "markdown",
   "id": "4496d662-0bba-4379-86ed-1bb879df3ad9",
   "metadata": {},
   "source": [
    "**Answer**: Declarative. In school, the professor provides you with a problem (input), then teaches you how to solve the problem (procedures). You use the knowledge to solve new problems (output). \n",
    "\n",
    "In Supervised Learning, you provide the problem (input) to the model, and the solution (output). The model learns the relationship between input and output, therefore Supervised Learning uses Declarative Learning."
   ]
  },
  {
   "cell_type": "markdown",
   "id": "72ef0a46-4455-4e07-bf49-63ccff8e8107",
   "metadata": {},
   "source": [
    "#### Unsupervised Learning\n",
    "\n",
    "Unsupervised Learning involves presenting the model with **input data**, but **no target labels** (hence the non-supervision). The model is often tasked with finding patters and grouping input data (clustering), or compressing the input data to a lower dimensional space (decomposition)."
   ]
  },
  {
   "cell_type": "markdown",
   "id": "a31e71a9-bfd1-47f6-bff8-67b428c57db1",
   "metadata": {},
   "source": [
    "## 2. Supervised Learning <a id=\"sl\"></a>"
   ]
  },
  {
   "cell_type": "markdown",
   "id": "7c031c2e-cc3e-41c8-93d1-c74972ca4184",
   "metadata": {},
   "source": [
    "Supervised Learning can further be broken down into two subcategories: **Regression** and **Classification**. In this workshop, we will build and deploy a classification model."
   ]
  },
  {
   "cell_type": "markdown",
   "id": "1931a105-ec28-40bf-bb78-ce7b37370ba7",
   "metadata": {
    "tags": []
   },
   "source": [
    "##### **Question**: What is the difference between Regression and Classification?"
   ]
  },
  {
   "cell_type": "markdown",
   "id": "e1530c0e-85a7-4f45-bfdd-084e67df550e",
   "metadata": {
    "jp-MarkdownHeadingCollapsed": true,
    "tags": []
   },
   "source": [
    "### 2.1 Regression <a id=\"reg\"></a>"
   ]
  },
  {
   "cell_type": "markdown",
   "id": "1d04c139-6012-4c25-bbd4-41e5400ba19f",
   "metadata": {},
   "source": [
    "Regression takes in an input $x \\in \\mathbb{R}^n$ and predicts on a **continuous** output space, i.e. $\\hat{y} \\in \\mathbb{R}^m$. A good example is predicting the price of a house given the size of the house, age of the house, etc..."
   ]
  },
  {
   "cell_type": "markdown",
   "id": "c928116b-6e94-40e2-b371-63a586c8f993",
   "metadata": {
    "jp-MarkdownHeadingCollapsed": true,
    "tags": []
   },
   "source": [
    "### 2.2 Classification <a id=\"cla\"></a>"
   ]
  },
  {
   "cell_type": "markdown",
   "id": "ff813396-27e0-4085-9b5f-c47c0f2e9141",
   "metadata": {},
   "source": [
    "Classification takes in an input $x \\in \\mathbb{R}^n$, and predicts on a **discrete** output space, i.e. $\\hat{y} \\in \\{1, 2, ..., K\\}$, where $K$ is the number of classes. A good example is predicting whether an image contains a **cat**, **dog** or **mouse**, being labeled $1, 2, 3$ respectively. It does not make sense for the model to predict non-integral numbers (i.e. $1.5$)."
   ]
  },
  {
   "cell_type": "markdown",
   "id": "5ab08dd9-350b-41db-8b90-7303687877e7",
   "metadata": {},
   "source": [
    "## 3. Coding Workshop! <a id=\"work\"></a>"
   ]
  },
  {
   "cell_type": "markdown",
   "id": "309f4cd3-87b2-408e-b8a7-723dc0892bbe",
   "metadata": {},
   "source": [
    "Throughout this workshop, we will be using [**PyTorch**](https://pytorch.org), a powerful deep-learning library that allows you to construct anything from simple Linear Classification models (our workshop!) to the most cutting-edge [Transformer Language Models with over 175 Billion parameters](https://openai.com/api/)."
   ]
  },
  {
   "cell_type": "code",
   "execution_count": null,
   "id": "51baf116-2f96-498b-9550-0424b2cd2897",
   "metadata": {},
   "outputs": [],
   "source": []
  },
  {
   "cell_type": "code",
   "execution_count": null,
   "id": "4a6ce295-2037-4278-aeac-cc6588804f8a",
   "metadata": {},
   "outputs": [],
   "source": []
  },
  {
   "cell_type": "code",
   "execution_count": null,
   "id": "884c9569-2b6d-4c56-98b5-8efb9138e2f6",
   "metadata": {},
   "outputs": [],
   "source": []
  },
  {
   "cell_type": "markdown",
   "id": "54fefc49-8085-4d3b-bec5-bbf70952479d",
   "metadata": {},
   "source": [
    "### Logistic Regression\n",
    "\n",
    "Logistic Regression, despite its name, is a classification algorithm. \n",
    "https://www.desmos.com/calculator/aercytyuiq"
   ]
  },
  {
   "cell_type": "code",
   "execution_count": null,
   "id": "606e8c74-9ccc-460f-b42c-224aa3e2df94",
   "metadata": {},
   "outputs": [],
   "source": []
  },
  {
   "cell_type": "markdown",
   "id": "b364739b-6a12-4c5d-9c19-e2155af6494d",
   "metadata": {},
   "source": [
    "### Training Loop\n",
    "\n",
    "The idea behind training: https://www.desmos.com/calculator/h5m596ed9e"
   ]
  },
  {
   "cell_type": "code",
   "execution_count": null,
   "id": "ff142804-c573-4464-a08d-6176ffa453cc",
   "metadata": {},
   "outputs": [],
   "source": []
  },
  {
   "cell_type": "markdown",
   "id": "b273373b-284a-4a12-83ab-7e60a7d8fad6",
   "metadata": {},
   "source": [
    "### Training Your Model\n",
    "\n",
    "Binary Cross Entropy: https://www.desmos.com/calculator/yooajguffv"
   ]
  },
  {
   "cell_type": "code",
   "execution_count": null,
   "id": "a5b87d54-027b-4f07-83ab-042d3d1088ef",
   "metadata": {},
   "outputs": [],
   "source": []
  },
  {
   "cell_type": "code",
   "execution_count": null,
   "id": "7426999a-2ad3-4c57-97a9-e03f70527ea5",
   "metadata": {},
   "outputs": [],
   "source": []
  },
  {
   "cell_type": "code",
   "execution_count": null,
   "id": "18a5802a-13de-4d5f-85ed-98fc176f8dcd",
   "metadata": {},
   "outputs": [],
   "source": []
  },
  {
   "cell_type": "code",
   "execution_count": null,
   "id": "3544ed07-2719-4250-87d9-2289ebe565ce",
   "metadata": {},
   "outputs": [],
   "source": []
  },
  {
   "cell_type": "code",
   "execution_count": null,
   "id": "ffac5dde-b931-4682-bb05-afaef890da1f",
   "metadata": {},
   "outputs": [],
   "source": []
  }
 ],
 "metadata": {
  "kernelspec": {
   "display_name": "Python 3 (ipykernel)",
   "language": "python",
   "name": "python3"
  },
  "language_info": {
   "codemirror_mode": {
    "name": "ipython",
    "version": 3
   },
   "file_extension": ".py",
   "mimetype": "text/x-python",
   "name": "python",
   "nbconvert_exporter": "python",
   "pygments_lexer": "ipython3",
   "version": "3.9.13"
  }
 },
 "nbformat": 4,
 "nbformat_minor": 5
}
